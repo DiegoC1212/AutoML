{
 "cells": [
  {
   "cell_type": "code",
   "execution_count": null,
   "metadata": {
    "collapsed": true,
    "pycharm": {
     "name": "#%%\n",
     "is_executing": true
    }
   },
   "outputs": [],
   "source": [
    "import torch\n",
    "import numpy as np\n",
    "from medmnist import PneumoniaMNIST, BreastMNIST\n",
    "from torchvision import transforms\n",
    "\n",
    "transformations = transforms.Compose([\n",
    "    transforms.ToTensor()\n",
    "])\n",
    "\n",
    "# MedMNIST is not available to download using Tensorflow so we'll use pytorch to download and unpack the datasets\n",
    "pneu_train_dataset = PneumoniaMNIST(split='train', transform=transformations, download=True)\n",
    "pneu_val_dataset = PneumoniaMNIST(split='val', transform=transformations, download=True)\n",
    "pneu_test_dataset = PneumoniaMNIST(split='test', transform=transformations, download=True)\n",
    "\n",
    "\n",
    "breast_train_dataset = BreastMNIST(split='train', transform=transformations, download=True)\n",
    "breast_val_dataset = BreastMNIST(split='val', transform=transformations, download=True)\n",
    "breast_test_dataset = BreastMNIST(split='test', transform=transformations, download=True)"
   ]
  },
  {
   "cell_type": "code",
   "execution_count": 2,
   "outputs": [],
   "source": [
    "from torch.utils.data import DataLoader\n",
    "\n",
    "# Now we'll use DataLoaders to unpack and transform data into a format suitable for autokeras\n",
    "pneu_x_train, pneu_y_train = next(iter(DataLoader(pneu_train_dataset, batch_size=len(pneu_train_dataset), shuffle=False)))\n",
    "pneu_x_train, pneu_y_train = pneu_x_train.numpy(), pneu_y_train.numpy()\n",
    "\n",
    "pneu_x_val, pneu_y_val = next(iter(DataLoader(pneu_val_dataset, batch_size=len(pneu_val_dataset), shuffle=False)))\n",
    "pneu_x_val, pneu_y_val = pneu_x_val.numpy(), pneu_y_val.numpy()\n",
    "\n",
    "pneu_x_test, pneu_y_test = next(iter(DataLoader(pneu_test_dataset, batch_size=len(pneu_test_dataset), shuffle=False)))\n",
    "pneu_x_test, pneu_y_test = pneu_x_test.numpy(), pneu_y_test.numpy()\n",
    "\n",
    "# For the BreastMNIST dataset\n",
    "breast_x_train, breast_y_train = next(iter(DataLoader(breast_train_dataset, batch_size=len(breast_train_dataset), shuffle=False)))\n",
    "breast_x_train, breast_y_train = breast_x_train.numpy(), breast_y_train.numpy()\n",
    "\n",
    "breast_x_val, breast_y_val = next(iter(DataLoader(breast_val_dataset, batch_size=len(breast_val_dataset), shuffle=False)))\n",
    "breast_x_val, breast_y_val = breast_x_val.numpy(), breast_y_val.numpy()\n",
    "\n",
    "breast_x_test, breast_y_test = next(iter(DataLoader(breast_test_dataset, batch_size=len(breast_test_dataset), shuffle=False)))\n",
    "breast_x_test, breast_y_test = breast_x_test.numpy(), breast_y_test.numpy()"
   ],
   "metadata": {
    "collapsed": false,
    "pycharm": {
     "name": "#%%\n"
    }
   }
  },
  {
   "cell_type": "code",
   "execution_count": 3,
   "outputs": [
    {
     "name": "stdout",
     "output_type": "stream",
     "text": [
      "Trial 1 Complete [00h 00m 05s]\n",
      "val_loss: 0.09542927891016006\n",
      "\n",
      "Best val_loss So Far: 0.09542927891016006\n",
      "Total elapsed time: 00h 00m 05s\n"
     ]
    },
    {
     "name": "stderr",
     "output_type": "stream",
     "text": [
      "WARNING:absl:At this time, the v2.11+ optimizer `tf.keras.optimizers.Adam` runs slowly on M1/M2 Macs, please use the legacy Keras optimizer instead, located at `tf.keras.optimizers.legacy.Adam`.\n"
     ]
    },
    {
     "name": "stdout",
     "output_type": "stream",
     "text": [
      "Epoch 1/10\n",
      "148/148 [==============================] - 1s 3ms/step - loss: 0.2505 - accuracy: 0.9002 - val_loss: 0.1431 - val_accuracy: 0.9504\n",
      "Epoch 2/10\n",
      "148/148 [==============================] - 0s 3ms/step - loss: 0.1492 - accuracy: 0.9458 - val_loss: 0.1140 - val_accuracy: 0.9599\n",
      "Epoch 3/10\n",
      "148/148 [==============================] - 0s 3ms/step - loss: 0.1282 - accuracy: 0.9518 - val_loss: 0.1025 - val_accuracy: 0.9580\n",
      "Epoch 4/10\n",
      "148/148 [==============================] - 0s 3ms/step - loss: 0.1191 - accuracy: 0.9588 - val_loss: 0.1001 - val_accuracy: 0.9599\n",
      "Epoch 5/10\n",
      "148/148 [==============================] - 0s 3ms/step - loss: 0.1136 - accuracy: 0.9588 - val_loss: 0.0932 - val_accuracy: 0.9580\n",
      "Epoch 6/10\n",
      "148/148 [==============================] - 0s 3ms/step - loss: 0.1072 - accuracy: 0.9579 - val_loss: 0.0924 - val_accuracy: 0.9656\n",
      "Epoch 7/10\n",
      "148/148 [==============================] - 0s 3ms/step - loss: 0.1051 - accuracy: 0.9579 - val_loss: 0.0949 - val_accuracy: 0.9599\n",
      "Epoch 8/10\n",
      "148/148 [==============================] - 0s 3ms/step - loss: 0.0973 - accuracy: 0.9652 - val_loss: 0.1004 - val_accuracy: 0.9561\n",
      "Epoch 9/10\n",
      "148/148 [==============================] - 0s 3ms/step - loss: 0.0948 - accuracy: 0.9675 - val_loss: 0.0924 - val_accuracy: 0.9599\n",
      "Epoch 10/10\n",
      "148/148 [==============================] - 0s 3ms/step - loss: 0.0980 - accuracy: 0.9639 - val_loss: 0.0896 - val_accuracy: 0.9637\n",
      "INFO:tensorflow:Assets written to: ./image_classifier/best_model/assets\n"
     ]
    },
    {
     "name": "stderr",
     "output_type": "stream",
     "text": [
      "INFO:tensorflow:Assets written to: ./image_classifier/best_model/assets\n"
     ]
    },
    {
     "data": {
      "text/plain": "<keras.src.callbacks.History at 0x2a9847ad0>"
     },
     "execution_count": 3,
     "metadata": {},
     "output_type": "execute_result"
    }
   ],
   "source": [
    "import tensorflow as tf\n",
    "import autokeras as ak\n",
    "\n",
    "\n",
    "clf_pneu = ak.ImageClassifier(overwrite=True, max_trials=1)\n",
    "\n",
    "clf_pneu.fit(\n",
    "    pneu_x_train,\n",
    "    pneu_y_train,\n",
    "    validation_data=(pneu_x_val, pneu_y_val),\n",
    "    epochs=10\n",
    ")"
   ],
   "metadata": {
    "collapsed": false,
    "pycharm": {
     "name": "#%%\n"
    }
   }
  },
  {
   "cell_type": "code",
   "execution_count": 4,
   "outputs": [
    {
     "name": "stdout",
     "output_type": "stream",
     "text": [
      "Trial 1 Complete [00h 00m 01s]\n",
      "val_loss: 0.4279482066631317\n",
      "\n",
      "Best val_loss So Far: 0.4279482066631317\n",
      "Total elapsed time: 00h 00m 01s\n"
     ]
    },
    {
     "name": "stderr",
     "output_type": "stream",
     "text": [
      "WARNING:absl:At this time, the v2.11+ optimizer `tf.keras.optimizers.Adam` runs slowly on M1/M2 Macs, please use the legacy Keras optimizer instead, located at `tf.keras.optimizers.legacy.Adam`.\n"
     ]
    },
    {
     "name": "stdout",
     "output_type": "stream",
     "text": [
      "Epoch 1/10\n",
      "18/18 [==============================] - 0s 6ms/step - loss: 0.6359 - accuracy: 0.6832 - val_loss: 0.5777 - val_accuracy: 0.7308\n",
      "Epoch 2/10\n",
      "18/18 [==============================] - 0s 3ms/step - loss: 0.5630 - accuracy: 0.7363 - val_loss: 0.5243 - val_accuracy: 0.7308\n",
      "Epoch 3/10\n",
      "18/18 [==============================] - 0s 3ms/step - loss: 0.5114 - accuracy: 0.7527 - val_loss: 0.4806 - val_accuracy: 0.8462\n",
      "Epoch 4/10\n",
      "18/18 [==============================] - 0s 4ms/step - loss: 0.4896 - accuracy: 0.7784 - val_loss: 0.4583 - val_accuracy: 0.8462\n",
      "Epoch 5/10\n",
      "18/18 [==============================] - 0s 4ms/step - loss: 0.4740 - accuracy: 0.7894 - val_loss: 0.4496 - val_accuracy: 0.8077\n",
      "Epoch 6/10\n",
      "18/18 [==============================] - 0s 3ms/step - loss: 0.4744 - accuracy: 0.7949 - val_loss: 0.4446 - val_accuracy: 0.8333\n",
      "Epoch 7/10\n",
      "18/18 [==============================] - 0s 3ms/step - loss: 0.4832 - accuracy: 0.7875 - val_loss: 0.4322 - val_accuracy: 0.8590\n",
      "Epoch 8/10\n",
      "18/18 [==============================] - 0s 3ms/step - loss: 0.4550 - accuracy: 0.8095 - val_loss: 0.4225 - val_accuracy: 0.8590\n",
      "Epoch 9/10\n",
      "18/18 [==============================] - 0s 3ms/step - loss: 0.4642 - accuracy: 0.7967 - val_loss: 0.4213 - val_accuracy: 0.8462\n",
      "Epoch 10/10\n",
      "18/18 [==============================] - 0s 3ms/step - loss: 0.4413 - accuracy: 0.8132 - val_loss: 0.4278 - val_accuracy: 0.8462\n",
      "INFO:tensorflow:Assets written to: ./image_classifier/best_model/assets\n"
     ]
    },
    {
     "name": "stderr",
     "output_type": "stream",
     "text": [
      "INFO:tensorflow:Assets written to: ./image_classifier/best_model/assets\n"
     ]
    },
    {
     "data": {
      "text/plain": "<keras.src.callbacks.History at 0x2abac9850>"
     },
     "execution_count": 4,
     "metadata": {},
     "output_type": "execute_result"
    }
   ],
   "source": [
    "clf_breast = ak.ImageClassifier(overwrite=True, max_trials=1)\n",
    "\n",
    "clf_breast.fit(\n",
    "    breast_x_train,\n",
    "    breast_y_train,\n",
    "    validation_data=(breast_x_val, breast_y_val),\n",
    "    epochs=10\n",
    ")"
   ],
   "metadata": {
    "collapsed": false,
    "pycharm": {
     "name": "#%%\n"
    }
   }
  },
  {
   "cell_type": "code",
   "execution_count": 5,
   "outputs": [
    {
     "name": "stderr",
     "output_type": "stream",
     "text": [
      "WARNING:absl:At this time, the v2.11+ optimizer `tf.keras.optimizers.RestoredOptimizer` runs slowly on M1/M2 Macs, please use the legacy Keras optimizer instead, located at `tf.keras.optimizers.legacy.RestoredOptimizer`.\n",
      "WARNING:absl:At this time, the v2.11+ optimizer `tf.keras.optimizers.Adam` runs slowly on M1/M2 Macs, please use the legacy Keras optimizer instead, located at `tf.keras.optimizers.legacy.Adam`.\n"
     ]
    },
    {
     "name": "stdout",
     "output_type": "stream",
     "text": [
      "20/20 [==============================] - 0s 999us/step - loss: 1.2899 - accuracy: 0.6250\n"
     ]
    },
    {
     "name": "stderr",
     "output_type": "stream",
     "text": [
      "WARNING:absl:At this time, the v2.11+ optimizer `tf.keras.optimizers.RestoredOptimizer` runs slowly on M1/M2 Macs, please use the legacy Keras optimizer instead, located at `tf.keras.optimizers.legacy.RestoredOptimizer`.\n",
      "WARNING:absl:At this time, the v2.11+ optimizer `tf.keras.optimizers.Adam` runs slowly on M1/M2 Macs, please use the legacy Keras optimizer instead, located at `tf.keras.optimizers.legacy.Adam`.\n"
     ]
    },
    {
     "name": "stdout",
     "output_type": "stream",
     "text": [
      "5/5 [==============================] - 0s 1ms/step - loss: 0.4666 - accuracy: 0.7885\n",
      "Pneumonia Model - Test Loss: 1.2899339199066162, Test Accuracy: 0.625\n",
      "Breast Cancer Model - Test Loss: 0.46658509969711304, Test Accuracy: 0.7884615659713745\n"
     ]
    }
   ],
   "source": [
    "pneu_loss, pneu_accuracy = clf_pneu.evaluate(pneu_x_test, pneu_y_test)\n",
    "breast_loss, breast_accuracy = clf_breast.evaluate(breast_x_test, breast_y_test)\n",
    "\n",
    "print(f\"Pneumonia Model - Test Loss: {pneu_loss}, Test Accuracy: {pneu_accuracy}\")\n",
    "print(f\"Breast Cancer Model - Test Loss: {breast_loss}, Test Accuracy: {breast_accuracy}\")\n",
    "\n",
    "# With Keras autoclassifier it is impossible to calculate the auc_roc as it doesn't have the .predict_proba method and will only return binary predictions"
   ],
   "metadata": {
    "collapsed": false,
    "pycharm": {
     "name": "#%%\n"
    }
   }
  },
  {
   "cell_type": "code",
   "execution_count": 9,
   "outputs": [
    {
     "name": "stderr",
     "output_type": "stream",
     "text": [
      "WARNING:absl:At this time, the v2.11+ optimizer `tf.keras.optimizers.RestoredOptimizer` runs slowly on M1/M2 Macs, please use the legacy Keras optimizer instead, located at `tf.keras.optimizers.legacy.RestoredOptimizer`.\n",
      "WARNING:absl:At this time, the v2.11+ optimizer `tf.keras.optimizers.Adam` runs slowly on M1/M2 Macs, please use the legacy Keras optimizer instead, located at `tf.keras.optimizers.legacy.Adam`.\n",
      "WARNING:absl:At this time, the v2.11+ optimizer `tf.keras.optimizers.RestoredOptimizer` runs slowly on M1/M2 Macs, please use the legacy Keras optimizer instead, located at `tf.keras.optimizers.legacy.RestoredOptimizer`.\n",
      "WARNING:absl:At this time, the v2.11+ optimizer `tf.keras.optimizers.Adam` runs slowly on M1/M2 Macs, please use the legacy Keras optimizer instead, located at `tf.keras.optimizers.legacy.Adam`.\n"
     ]
    }
   ],
   "source": [
    "pneu_best_model = clf_pneu.export_model()\n",
    "breast_best_model = clf_breast.export_model()"
   ],
   "metadata": {
    "collapsed": false,
    "pycharm": {
     "name": "#%%\n"
    }
   }
  },
  {
   "cell_type": "code",
   "execution_count": 10,
   "outputs": [
    {
     "name": "stdout",
     "output_type": "stream",
     "text": [
      "Model: \"model\"\n",
      "_________________________________________________________________\n",
      " Layer (type)                Output Shape              Param #   \n",
      "=================================================================\n",
      " input_1 (InputLayer)        [(None, 1, 28, 28)]       0         \n",
      "                                                                 \n",
      " cast_to_float32 (CastToFlo  (None, 1, 28, 28)         0         \n",
      " at32)                                                           \n",
      "                                                                 \n",
      " normalization (Normalizati  (None, 1, 28, 28)         57        \n",
      " on)                                                             \n",
      "                                                                 \n",
      " conv2d (Conv2D)             (None, 1, 28, 32)         8096      \n",
      "                                                                 \n",
      " conv2d_1 (Conv2D)           (None, 1, 28, 64)         18496     \n",
      "                                                                 \n",
      " max_pooling2d (MaxPooling2  (None, 1, 14, 64)         0         \n",
      " D)                                                              \n",
      "                                                                 \n",
      " dropout (Dropout)           (None, 1, 14, 64)         0         \n",
      "                                                                 \n",
      " flatten (Flatten)           (None, 896)               0         \n",
      "                                                                 \n",
      " dropout_1 (Dropout)         (None, 896)               0         \n",
      "                                                                 \n",
      " dense (Dense)               (None, 1)                 897       \n",
      "                                                                 \n",
      " classification_head_1 (Act  (None, 1)                 0         \n",
      " ivation)                                                        \n",
      "                                                                 \n",
      "=================================================================\n",
      "Total params: 27546 (107.61 KB)\n",
      "Trainable params: 27489 (107.38 KB)\n",
      "Non-trainable params: 57 (232.00 Byte)\n",
      "_________________________________________________________________\n"
     ]
    }
   ],
   "source": [
    "pneu_best_model.summary()"
   ],
   "metadata": {
    "collapsed": false,
    "pycharm": {
     "name": "#%%\n"
    }
   }
  },
  {
   "cell_type": "code",
   "execution_count": 11,
   "outputs": [
    {
     "name": "stdout",
     "output_type": "stream",
     "text": [
      "Model: \"model\"\n",
      "_________________________________________________________________\n",
      " Layer (type)                Output Shape              Param #   \n",
      "=================================================================\n",
      " input_1 (InputLayer)        [(None, 1, 28, 28)]       0         \n",
      "                                                                 \n",
      " cast_to_float32 (CastToFlo  (None, 1, 28, 28)         0         \n",
      " at32)                                                           \n",
      "                                                                 \n",
      " normalization (Normalizati  (None, 1, 28, 28)         57        \n",
      " on)                                                             \n",
      "                                                                 \n",
      " conv2d (Conv2D)             (None, 1, 28, 32)         8096      \n",
      "                                                                 \n",
      " conv2d_1 (Conv2D)           (None, 1, 28, 64)         18496     \n",
      "                                                                 \n",
      " max_pooling2d (MaxPooling2  (None, 1, 14, 64)         0         \n",
      " D)                                                              \n",
      "                                                                 \n",
      " dropout (Dropout)           (None, 1, 14, 64)         0         \n",
      "                                                                 \n",
      " flatten (Flatten)           (None, 896)               0         \n",
      "                                                                 \n",
      " dropout_1 (Dropout)         (None, 896)               0         \n",
      "                                                                 \n",
      " dense (Dense)               (None, 1)                 897       \n",
      "                                                                 \n",
      " classification_head_1 (Act  (None, 1)                 0         \n",
      " ivation)                                                        \n",
      "                                                                 \n",
      "=================================================================\n",
      "Total params: 27546 (107.61 KB)\n",
      "Trainable params: 27489 (107.38 KB)\n",
      "Non-trainable params: 57 (232.00 Byte)\n",
      "_________________________________________________________________\n"
     ]
    }
   ],
   "source": [
    "breast_best_model.summary()"
   ],
   "metadata": {
    "collapsed": false,
    "pycharm": {
     "name": "#%%\n"
    }
   }
  }
 ],
 "metadata": {
  "kernelspec": {
   "display_name": "Python 3",
   "language": "python",
   "name": "python3"
  },
  "language_info": {
   "codemirror_mode": {
    "name": "ipython",
    "version": 2
   },
   "file_extension": ".py",
   "mimetype": "text/x-python",
   "name": "python",
   "nbconvert_exporter": "python",
   "pygments_lexer": "ipython2",
   "version": "2.7.6"
  }
 },
 "nbformat": 4,
 "nbformat_minor": 0
}